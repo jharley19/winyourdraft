{
 "cells": [
  {
   "cell_type": "markdown",
   "id": "reliable-diagram",
   "metadata": {},
   "source": [
    "# Can you win your fantasy football league at the draft?\n",
    "\n",
    "### By Jeremy Harley and Nick Sagun\n",
    "\n",
    "#### Fantasy football is a rapidly growing phenomenon that has attracted some 40 million-plus players across the globe. For many, this game represents a fun competitive experience played amongst friends. But for people like us, this game means much more. Both of us are currently in a highly competitive and involved fantasy league called the RFL. Currently, the league holds 10 members consisting mostly of close high school friends. Many leagues are similar to ours in that way but the RFL stands out in many forms. Every member in the league takes this game very seriously, there is a handsome yearly league fee which goes to the winner (just in case you needed more reason to win!), there is a yearly in-person rules meeting, draft party, and awards ceremony. Many members also produce videos throughout the year to trash-talk opponents or to talk about their team. Furthermore, we recently were able to create our league website to document the history of our league. The amount of time and effort that we put into this league makes winning that much more precious to us, so we want to find any way to win. This brings us to our question. Can you win your league at the draft? The draft is the most important day of the fantasy season where you draft the 15 players that will make up your roster for the beginning of the year. Therefore, we want to take a look at different draft strategies that have been used in the RFL over the years to determine if one strategy may give you an advantage over using another one. The insights provided in this data analysis could be used by any reader for them to gain an advantage in their leagues before the first week of games even begin. "
   ]
  },
  {
   "cell_type": "markdown",
   "id": "respected-electricity",
   "metadata": {},
   "source": [
    "## Data Tyding\n",
    "\n",
    "#### We will import the final standings from each year of the RFL and then merge those results into one complete dataframe"
   ]
  },
  {
   "cell_type": "code",
   "execution_count": 113,
   "id": "reported-district",
   "metadata": {},
   "outputs": [
    {
     "data": {
      "text/html": [
       "<div>\n",
       "<style scoped>\n",
       "    .dataframe tbody tr th:only-of-type {\n",
       "        vertical-align: middle;\n",
       "    }\n",
       "\n",
       "    .dataframe tbody tr th {\n",
       "        vertical-align: top;\n",
       "    }\n",
       "\n",
       "    .dataframe thead th {\n",
       "        text-align: right;\n",
       "    }\n",
       "</style>\n",
       "<table border=\"1\" class=\"dataframe\">\n",
       "  <thead>\n",
       "    <tr style=\"text-align: right;\">\n",
       "      <th></th>\n",
       "      <th>2020 Standings</th>\n",
       "      <th>Team</th>\n",
       "      <th>2020 Record</th>\n",
       "      <th>2020 Win %</th>\n",
       "      <th>Early TE 2020</th>\n",
       "      <th>Early QB 2020</th>\n",
       "      <th>RB Heavy 2020</th>\n",
       "      <th>Zero RB 2020</th>\n",
       "      <th>Points For 2020</th>\n",
       "      <th>Points Against 2020</th>\n",
       "      <th>...</th>\n",
       "      <th>Points Against 2014</th>\n",
       "      <th>2013 Standings</th>\n",
       "      <th>2013 Record</th>\n",
       "      <th>2013 Win %</th>\n",
       "      <th>Early TE 2013</th>\n",
       "      <th>Early QB 2013</th>\n",
       "      <th>RB Heavy 2013</th>\n",
       "      <th>Zero RB 2013</th>\n",
       "      <th>Points For 2013</th>\n",
       "      <th>Points Against 2013</th>\n",
       "    </tr>\n",
       "  </thead>\n",
       "  <tbody>\n",
       "    <tr>\n",
       "      <th>0</th>\n",
       "      <td>1.0</td>\n",
       "      <td>Gruden's Plan</td>\n",
       "      <td>13-3</td>\n",
       "      <td>81.25</td>\n",
       "      <td>yes</td>\n",
       "      <td>no</td>\n",
       "      <td>yes</td>\n",
       "      <td>no</td>\n",
       "      <td>1799.32</td>\n",
       "      <td>1464.60</td>\n",
       "      <td>...</td>\n",
       "      <td>NaN</td>\n",
       "      <td>NaN</td>\n",
       "      <td>NaN</td>\n",
       "      <td>NaN</td>\n",
       "      <td>NaN</td>\n",
       "      <td>NaN</td>\n",
       "      <td>NaN</td>\n",
       "      <td>NaN</td>\n",
       "      <td>NaN</td>\n",
       "      <td>NaN</td>\n",
       "    </tr>\n",
       "    <tr>\n",
       "      <th>1</th>\n",
       "      <td>2.0</td>\n",
       "      <td>The Hurts Helicopter</td>\n",
       "      <td>13-3</td>\n",
       "      <td>81.25</td>\n",
       "      <td>no</td>\n",
       "      <td>yes</td>\n",
       "      <td>yes</td>\n",
       "      <td>no</td>\n",
       "      <td>1861.40</td>\n",
       "      <td>1578.28</td>\n",
       "      <td>...</td>\n",
       "      <td>NaN</td>\n",
       "      <td>NaN</td>\n",
       "      <td>NaN</td>\n",
       "      <td>NaN</td>\n",
       "      <td>NaN</td>\n",
       "      <td>NaN</td>\n",
       "      <td>NaN</td>\n",
       "      <td>NaN</td>\n",
       "      <td>NaN</td>\n",
       "      <td>NaN</td>\n",
       "    </tr>\n",
       "    <tr>\n",
       "      <th>2</th>\n",
       "      <td>3.0</td>\n",
       "      <td>Maryland Marijuanas</td>\n",
       "      <td>9-7</td>\n",
       "      <td>56.25</td>\n",
       "      <td>no</td>\n",
       "      <td>yes</td>\n",
       "      <td>yes</td>\n",
       "      <td>no</td>\n",
       "      <td>1560.16</td>\n",
       "      <td>1506.80</td>\n",
       "      <td>...</td>\n",
       "      <td>NaN</td>\n",
       "      <td>NaN</td>\n",
       "      <td>NaN</td>\n",
       "      <td>NaN</td>\n",
       "      <td>NaN</td>\n",
       "      <td>NaN</td>\n",
       "      <td>NaN</td>\n",
       "      <td>NaN</td>\n",
       "      <td>NaN</td>\n",
       "      <td>NaN</td>\n",
       "    </tr>\n",
       "    <tr>\n",
       "      <th>3</th>\n",
       "      <td>4.0</td>\n",
       "      <td>Sleepy Nick</td>\n",
       "      <td>7-9</td>\n",
       "      <td>43.75</td>\n",
       "      <td>no</td>\n",
       "      <td>no</td>\n",
       "      <td>no</td>\n",
       "      <td>no</td>\n",
       "      <td>1544.12</td>\n",
       "      <td>1598.16</td>\n",
       "      <td>...</td>\n",
       "      <td>1114.04</td>\n",
       "      <td>NaN</td>\n",
       "      <td>NaN</td>\n",
       "      <td>NaN</td>\n",
       "      <td>NaN</td>\n",
       "      <td>NaN</td>\n",
       "      <td>NaN</td>\n",
       "      <td>NaN</td>\n",
       "      <td>NaN</td>\n",
       "      <td>NaN</td>\n",
       "    </tr>\n",
       "    <tr>\n",
       "      <th>4</th>\n",
       "      <td>5.0</td>\n",
       "      <td>Goofy God</td>\n",
       "      <td>7-9</td>\n",
       "      <td>43.75</td>\n",
       "      <td>no</td>\n",
       "      <td>no</td>\n",
       "      <td>no</td>\n",
       "      <td>no</td>\n",
       "      <td>1589.12</td>\n",
       "      <td>1799.34</td>\n",
       "      <td>...</td>\n",
       "      <td>NaN</td>\n",
       "      <td>NaN</td>\n",
       "      <td>NaN</td>\n",
       "      <td>NaN</td>\n",
       "      <td>NaN</td>\n",
       "      <td>NaN</td>\n",
       "      <td>NaN</td>\n",
       "      <td>NaN</td>\n",
       "      <td>NaN</td>\n",
       "      <td>NaN</td>\n",
       "    </tr>\n",
       "    <tr>\n",
       "      <th>5</th>\n",
       "      <td>6.0</td>\n",
       "      <td>Babylon</td>\n",
       "      <td>7-9</td>\n",
       "      <td>43.75</td>\n",
       "      <td>yes</td>\n",
       "      <td>yes</td>\n",
       "      <td>no</td>\n",
       "      <td>yes</td>\n",
       "      <td>1748.48</td>\n",
       "      <td>1848.26</td>\n",
       "      <td>...</td>\n",
       "      <td>NaN</td>\n",
       "      <td>NaN</td>\n",
       "      <td>NaN</td>\n",
       "      <td>NaN</td>\n",
       "      <td>NaN</td>\n",
       "      <td>NaN</td>\n",
       "      <td>NaN</td>\n",
       "      <td>NaN</td>\n",
       "      <td>NaN</td>\n",
       "      <td>NaN</td>\n",
       "    </tr>\n",
       "    <tr>\n",
       "      <th>6</th>\n",
       "      <td>7.0</td>\n",
       "      <td>Mullet Man</td>\n",
       "      <td>7-9</td>\n",
       "      <td>43.75</td>\n",
       "      <td>yes</td>\n",
       "      <td>no</td>\n",
       "      <td>no</td>\n",
       "      <td>no</td>\n",
       "      <td>1579.50</td>\n",
       "      <td>1615.62</td>\n",
       "      <td>...</td>\n",
       "      <td>NaN</td>\n",
       "      <td>NaN</td>\n",
       "      <td>NaN</td>\n",
       "      <td>NaN</td>\n",
       "      <td>NaN</td>\n",
       "      <td>NaN</td>\n",
       "      <td>NaN</td>\n",
       "      <td>NaN</td>\n",
       "      <td>NaN</td>\n",
       "      <td>NaN</td>\n",
       "    </tr>\n",
       "    <tr>\n",
       "      <th>7</th>\n",
       "      <td>8.0</td>\n",
       "      <td>Big Ounce</td>\n",
       "      <td>5-11</td>\n",
       "      <td>31.25</td>\n",
       "      <td>no</td>\n",
       "      <td>no</td>\n",
       "      <td>no</td>\n",
       "      <td>no</td>\n",
       "      <td>1588.98</td>\n",
       "      <td>1636.22</td>\n",
       "      <td>...</td>\n",
       "      <td>NaN</td>\n",
       "      <td>2.0</td>\n",
       "      <td>11-4</td>\n",
       "      <td>73.33</td>\n",
       "      <td>no</td>\n",
       "      <td>yes</td>\n",
       "      <td>no</td>\n",
       "      <td>yes</td>\n",
       "      <td>1359.88</td>\n",
       "      <td>1124.80</td>\n",
       "    </tr>\n",
       "    <tr>\n",
       "      <th>8</th>\n",
       "      <td>9.0</td>\n",
       "      <td>The Dictator</td>\n",
       "      <td>6-9</td>\n",
       "      <td>40.00</td>\n",
       "      <td>no</td>\n",
       "      <td>no</td>\n",
       "      <td>yes</td>\n",
       "      <td>no</td>\n",
       "      <td>1507.50</td>\n",
       "      <td>1595.74</td>\n",
       "      <td>...</td>\n",
       "      <td>817.38</td>\n",
       "      <td>1.0</td>\n",
       "      <td>13-2</td>\n",
       "      <td>86.66</td>\n",
       "      <td>yes</td>\n",
       "      <td>yes</td>\n",
       "      <td>no</td>\n",
       "      <td>yes</td>\n",
       "      <td>1498.90</td>\n",
       "      <td>1134.40</td>\n",
       "    </tr>\n",
       "    <tr>\n",
       "      <th>9</th>\n",
       "      <td>10.0</td>\n",
       "      <td>The Red Army</td>\n",
       "      <td>5-10</td>\n",
       "      <td>33.33</td>\n",
       "      <td>no</td>\n",
       "      <td>no</td>\n",
       "      <td>yes</td>\n",
       "      <td>no</td>\n",
       "      <td>1570.28</td>\n",
       "      <td>1705.84</td>\n",
       "      <td>...</td>\n",
       "      <td>1012.92</td>\n",
       "      <td>4.0</td>\n",
       "      <td>6-9</td>\n",
       "      <td>40.00</td>\n",
       "      <td>no</td>\n",
       "      <td>yes</td>\n",
       "      <td>yes</td>\n",
       "      <td>no</td>\n",
       "      <td>1068.66</td>\n",
       "      <td>1185.74</td>\n",
       "    </tr>\n",
       "    <tr>\n",
       "      <th>10</th>\n",
       "      <td>NaN</td>\n",
       "      <td>The Washington Buttkickers</td>\n",
       "      <td>NaN</td>\n",
       "      <td>NaN</td>\n",
       "      <td>NaN</td>\n",
       "      <td>NaN</td>\n",
       "      <td>NaN</td>\n",
       "      <td>NaN</td>\n",
       "      <td>NaN</td>\n",
       "      <td>NaN</td>\n",
       "      <td>...</td>\n",
       "      <td>NaN</td>\n",
       "      <td>NaN</td>\n",
       "      <td>NaN</td>\n",
       "      <td>NaN</td>\n",
       "      <td>NaN</td>\n",
       "      <td>NaN</td>\n",
       "      <td>NaN</td>\n",
       "      <td>NaN</td>\n",
       "      <td>NaN</td>\n",
       "      <td>NaN</td>\n",
       "    </tr>\n",
       "    <tr>\n",
       "      <th>11</th>\n",
       "      <td>NaN</td>\n",
       "      <td>Cookie Charizards</td>\n",
       "      <td>NaN</td>\n",
       "      <td>NaN</td>\n",
       "      <td>NaN</td>\n",
       "      <td>NaN</td>\n",
       "      <td>NaN</td>\n",
       "      <td>NaN</td>\n",
       "      <td>NaN</td>\n",
       "      <td>NaN</td>\n",
       "      <td>...</td>\n",
       "      <td>NaN</td>\n",
       "      <td>NaN</td>\n",
       "      <td>NaN</td>\n",
       "      <td>NaN</td>\n",
       "      <td>NaN</td>\n",
       "      <td>NaN</td>\n",
       "      <td>NaN</td>\n",
       "      <td>NaN</td>\n",
       "      <td>NaN</td>\n",
       "      <td>NaN</td>\n",
       "    </tr>\n",
       "    <tr>\n",
       "      <th>12</th>\n",
       "      <td>NaN</td>\n",
       "      <td>Benskins</td>\n",
       "      <td>NaN</td>\n",
       "      <td>NaN</td>\n",
       "      <td>NaN</td>\n",
       "      <td>NaN</td>\n",
       "      <td>NaN</td>\n",
       "      <td>NaN</td>\n",
       "      <td>NaN</td>\n",
       "      <td>NaN</td>\n",
       "      <td>...</td>\n",
       "      <td>930.66</td>\n",
       "      <td>6.0</td>\n",
       "      <td>2-12</td>\n",
       "      <td>14.28</td>\n",
       "      <td>yes</td>\n",
       "      <td>yes</td>\n",
       "      <td>no</td>\n",
       "      <td>yes</td>\n",
       "      <td>1039.98</td>\n",
       "      <td>1266.14</td>\n",
       "    </tr>\n",
       "    <tr>\n",
       "      <th>13</th>\n",
       "      <td>NaN</td>\n",
       "      <td>Huntingtown Hurricanes</td>\n",
       "      <td>NaN</td>\n",
       "      <td>NaN</td>\n",
       "      <td>NaN</td>\n",
       "      <td>NaN</td>\n",
       "      <td>NaN</td>\n",
       "      <td>NaN</td>\n",
       "      <td>NaN</td>\n",
       "      <td>NaN</td>\n",
       "      <td>...</td>\n",
       "      <td>849.96</td>\n",
       "      <td>5.0</td>\n",
       "      <td>5-9</td>\n",
       "      <td>35.71</td>\n",
       "      <td>yes</td>\n",
       "      <td>yes</td>\n",
       "      <td>no</td>\n",
       "      <td>no</td>\n",
       "      <td>1068.66</td>\n",
       "      <td>1185.74</td>\n",
       "    </tr>\n",
       "    <tr>\n",
       "      <th>14</th>\n",
       "      <td>NaN</td>\n",
       "      <td>The Winners</td>\n",
       "      <td>NaN</td>\n",
       "      <td>NaN</td>\n",
       "      <td>NaN</td>\n",
       "      <td>NaN</td>\n",
       "      <td>NaN</td>\n",
       "      <td>NaN</td>\n",
       "      <td>NaN</td>\n",
       "      <td>NaN</td>\n",
       "      <td>...</td>\n",
       "      <td>NaN</td>\n",
       "      <td>NaN</td>\n",
       "      <td>NaN</td>\n",
       "      <td>NaN</td>\n",
       "      <td>NaN</td>\n",
       "      <td>NaN</td>\n",
       "      <td>NaN</td>\n",
       "      <td>NaN</td>\n",
       "      <td>NaN</td>\n",
       "      <td>NaN</td>\n",
       "    </tr>\n",
       "    <tr>\n",
       "      <th>15</th>\n",
       "      <td>NaN</td>\n",
       "      <td>The Indian Spartans</td>\n",
       "      <td>NaN</td>\n",
       "      <td>NaN</td>\n",
       "      <td>NaN</td>\n",
       "      <td>NaN</td>\n",
       "      <td>NaN</td>\n",
       "      <td>NaN</td>\n",
       "      <td>NaN</td>\n",
       "      <td>NaN</td>\n",
       "      <td>...</td>\n",
       "      <td>NaN</td>\n",
       "      <td>NaN</td>\n",
       "      <td>NaN</td>\n",
       "      <td>NaN</td>\n",
       "      <td>NaN</td>\n",
       "      <td>NaN</td>\n",
       "      <td>NaN</td>\n",
       "      <td>NaN</td>\n",
       "      <td>NaN</td>\n",
       "      <td>NaN</td>\n",
       "    </tr>\n",
       "    <tr>\n",
       "      <th>16</th>\n",
       "      <td>NaN</td>\n",
       "      <td>Savage Jabberwalkies</td>\n",
       "      <td>NaN</td>\n",
       "      <td>NaN</td>\n",
       "      <td>NaN</td>\n",
       "      <td>NaN</td>\n",
       "      <td>NaN</td>\n",
       "      <td>NaN</td>\n",
       "      <td>NaN</td>\n",
       "      <td>NaN</td>\n",
       "      <td>...</td>\n",
       "      <td>965.62</td>\n",
       "      <td>NaN</td>\n",
       "      <td>NaN</td>\n",
       "      <td>NaN</td>\n",
       "      <td>NaN</td>\n",
       "      <td>NaN</td>\n",
       "      <td>NaN</td>\n",
       "      <td>NaN</td>\n",
       "      <td>NaN</td>\n",
       "      <td>NaN</td>\n",
       "    </tr>\n",
       "    <tr>\n",
       "      <th>17</th>\n",
       "      <td>NaN</td>\n",
       "      <td>Golden Dragon</td>\n",
       "      <td>NaN</td>\n",
       "      <td>NaN</td>\n",
       "      <td>NaN</td>\n",
       "      <td>NaN</td>\n",
       "      <td>NaN</td>\n",
       "      <td>NaN</td>\n",
       "      <td>NaN</td>\n",
       "      <td>NaN</td>\n",
       "      <td>...</td>\n",
       "      <td>943.18</td>\n",
       "      <td>NaN</td>\n",
       "      <td>NaN</td>\n",
       "      <td>NaN</td>\n",
       "      <td>NaN</td>\n",
       "      <td>NaN</td>\n",
       "      <td>NaN</td>\n",
       "      <td>NaN</td>\n",
       "      <td>NaN</td>\n",
       "      <td>NaN</td>\n",
       "    </tr>\n",
       "    <tr>\n",
       "      <th>18</th>\n",
       "      <td>NaN</td>\n",
       "      <td>Krackersmadefreshdaily</td>\n",
       "      <td>NaN</td>\n",
       "      <td>NaN</td>\n",
       "      <td>NaN</td>\n",
       "      <td>NaN</td>\n",
       "      <td>NaN</td>\n",
       "      <td>NaN</td>\n",
       "      <td>NaN</td>\n",
       "      <td>NaN</td>\n",
       "      <td>...</td>\n",
       "      <td>1098.94</td>\n",
       "      <td>NaN</td>\n",
       "      <td>NaN</td>\n",
       "      <td>NaN</td>\n",
       "      <td>NaN</td>\n",
       "      <td>NaN</td>\n",
       "      <td>NaN</td>\n",
       "      <td>NaN</td>\n",
       "      <td>NaN</td>\n",
       "      <td>NaN</td>\n",
       "    </tr>\n",
       "    <tr>\n",
       "      <th>19</th>\n",
       "      <td>NaN</td>\n",
       "      <td>Venom</td>\n",
       "      <td>NaN</td>\n",
       "      <td>NaN</td>\n",
       "      <td>NaN</td>\n",
       "      <td>NaN</td>\n",
       "      <td>NaN</td>\n",
       "      <td>NaN</td>\n",
       "      <td>NaN</td>\n",
       "      <td>NaN</td>\n",
       "      <td>...</td>\n",
       "      <td>NaN</td>\n",
       "      <td>3.0</td>\n",
       "      <td>7-8</td>\n",
       "      <td>46.66</td>\n",
       "      <td>no</td>\n",
       "      <td>yes</td>\n",
       "      <td>no</td>\n",
       "      <td>no</td>\n",
       "      <td>1108.94</td>\n",
       "      <td>1236.70</td>\n",
       "    </tr>\n",
       "  </tbody>\n",
       "</table>\n",
       "<p>20 rows × 73 columns</p>\n",
       "</div>"
      ],
      "text/plain": [
       "    2020 Standings                        Team 2020 Record  2020 Win %  \\\n",
       "0              1.0               Gruden's Plan        13-3       81.25   \n",
       "1              2.0        The Hurts Helicopter        13-3       81.25   \n",
       "2              3.0         Maryland Marijuanas         9-7       56.25   \n",
       "3              4.0                 Sleepy Nick         7-9       43.75   \n",
       "4              5.0                   Goofy God         7-9       43.75   \n",
       "5              6.0                     Babylon         7-9       43.75   \n",
       "6              7.0                  Mullet Man         7-9       43.75   \n",
       "7              8.0                   Big Ounce        5-11       31.25   \n",
       "8              9.0                The Dictator         6-9       40.00   \n",
       "9             10.0                The Red Army        5-10       33.33   \n",
       "10             NaN  The Washington Buttkickers         NaN         NaN   \n",
       "11             NaN           Cookie Charizards         NaN         NaN   \n",
       "12             NaN                    Benskins         NaN         NaN   \n",
       "13             NaN      Huntingtown Hurricanes         NaN         NaN   \n",
       "14             NaN                 The Winners         NaN         NaN   \n",
       "15             NaN         The Indian Spartans         NaN         NaN   \n",
       "16             NaN        Savage Jabberwalkies         NaN         NaN   \n",
       "17             NaN               Golden Dragon         NaN         NaN   \n",
       "18             NaN      Krackersmadefreshdaily         NaN         NaN   \n",
       "19             NaN                       Venom         NaN         NaN   \n",
       "\n",
       "   Early TE 2020 Early QB 2020 RB Heavy 2020 Zero RB 2020  Points For 2020  \\\n",
       "0            yes            no           yes           no          1799.32   \n",
       "1             no           yes           yes           no          1861.40   \n",
       "2             no           yes           yes           no          1560.16   \n",
       "3             no            no            no           no          1544.12   \n",
       "4             no            no            no           no          1589.12   \n",
       "5            yes           yes            no          yes          1748.48   \n",
       "6            yes            no            no           no          1579.50   \n",
       "7             no            no            no           no          1588.98   \n",
       "8             no            no           yes           no          1507.50   \n",
       "9             no            no           yes           no          1570.28   \n",
       "10           NaN           NaN           NaN          NaN              NaN   \n",
       "11           NaN           NaN           NaN          NaN              NaN   \n",
       "12           NaN           NaN           NaN          NaN              NaN   \n",
       "13           NaN           NaN           NaN          NaN              NaN   \n",
       "14           NaN           NaN           NaN          NaN              NaN   \n",
       "15           NaN           NaN           NaN          NaN              NaN   \n",
       "16           NaN           NaN           NaN          NaN              NaN   \n",
       "17           NaN           NaN           NaN          NaN              NaN   \n",
       "18           NaN           NaN           NaN          NaN              NaN   \n",
       "19           NaN           NaN           NaN          NaN              NaN   \n",
       "\n",
       "    Points Against 2020  ...  Points Against 2014 2013 Standings  2013 Record  \\\n",
       "0               1464.60  ...                  NaN            NaN          NaN   \n",
       "1               1578.28  ...                  NaN            NaN          NaN   \n",
       "2               1506.80  ...                  NaN            NaN          NaN   \n",
       "3               1598.16  ...              1114.04            NaN          NaN   \n",
       "4               1799.34  ...                  NaN            NaN          NaN   \n",
       "5               1848.26  ...                  NaN            NaN          NaN   \n",
       "6               1615.62  ...                  NaN            NaN          NaN   \n",
       "7               1636.22  ...                  NaN            2.0         11-4   \n",
       "8               1595.74  ...               817.38            1.0         13-2   \n",
       "9               1705.84  ...              1012.92            4.0          6-9   \n",
       "10                  NaN  ...                  NaN            NaN          NaN   \n",
       "11                  NaN  ...                  NaN            NaN          NaN   \n",
       "12                  NaN  ...               930.66            6.0         2-12   \n",
       "13                  NaN  ...               849.96            5.0          5-9   \n",
       "14                  NaN  ...                  NaN            NaN          NaN   \n",
       "15                  NaN  ...                  NaN            NaN          NaN   \n",
       "16                  NaN  ...               965.62            NaN          NaN   \n",
       "17                  NaN  ...               943.18            NaN          NaN   \n",
       "18                  NaN  ...              1098.94            NaN          NaN   \n",
       "19                  NaN  ...                  NaN            3.0          7-8   \n",
       "\n",
       "   2013 Win % Early TE 2013 Early QB 2013 RB Heavy 2013  Zero RB 2013  \\\n",
       "0         NaN           NaN           NaN           NaN           NaN   \n",
       "1         NaN           NaN           NaN           NaN           NaN   \n",
       "2         NaN           NaN           NaN           NaN           NaN   \n",
       "3         NaN           NaN           NaN           NaN           NaN   \n",
       "4         NaN           NaN           NaN           NaN           NaN   \n",
       "5         NaN           NaN           NaN           NaN           NaN   \n",
       "6         NaN           NaN           NaN           NaN           NaN   \n",
       "7       73.33            no           yes            no           yes   \n",
       "8       86.66           yes           yes            no           yes   \n",
       "9       40.00            no           yes           yes            no   \n",
       "10        NaN           NaN           NaN           NaN           NaN   \n",
       "11        NaN           NaN           NaN           NaN           NaN   \n",
       "12      14.28           yes           yes            no           yes   \n",
       "13      35.71           yes           yes            no            no   \n",
       "14        NaN           NaN           NaN           NaN           NaN   \n",
       "15        NaN           NaN           NaN           NaN           NaN   \n",
       "16        NaN           NaN           NaN           NaN           NaN   \n",
       "17        NaN           NaN           NaN           NaN           NaN   \n",
       "18        NaN           NaN           NaN           NaN           NaN   \n",
       "19      46.66            no           yes            no            no   \n",
       "\n",
       "    Points For 2013  Points Against 2013  \n",
       "0               NaN                  NaN  \n",
       "1               NaN                  NaN  \n",
       "2               NaN                  NaN  \n",
       "3               NaN                  NaN  \n",
       "4               NaN                  NaN  \n",
       "5               NaN                  NaN  \n",
       "6               NaN                  NaN  \n",
       "7           1359.88              1124.80  \n",
       "8           1498.90              1134.40  \n",
       "9           1068.66              1185.74  \n",
       "10              NaN                  NaN  \n",
       "11              NaN                  NaN  \n",
       "12          1039.98              1266.14  \n",
       "13          1068.66              1185.74  \n",
       "14              NaN                  NaN  \n",
       "15              NaN                  NaN  \n",
       "16              NaN                  NaN  \n",
       "17              NaN                  NaN  \n",
       "18              NaN                  NaN  \n",
       "19          1108.94              1236.70  \n",
       "\n",
       "[20 rows x 73 columns]"
      ]
     },
     "execution_count": 113,
     "metadata": {},
     "output_type": "execute_result"
    }
   ],
   "source": [
    "import requests\n",
    "import datetime\n",
    "import re\n",
    "import pandas as pd\n",
    "from bs4 import BeautifulSoup\n",
    "\n",
    "# import the final standings for each year from the RFL website\n",
    "standings = pd.read_html('https://jharley19.github.io/RFL-Webpage/standings.html')\n",
    "winTwenty = standings[0]\n",
    "winTwenty.columns = ['2020 Standings', 'Team', '2020 Record', '2020 Win %','Early TE 2020','Early QB 2020', 'RB Heavy 2020','Zero RB 2020', 'Points For 2020', 'Points Against 2020']\n",
    "\n",
    "winNineteen = standings[1]\n",
    "winNineteen.columns = ['2019 Standings', 'Team', '2019 Record', '2019 Win %','Early TE 2019','Early QB 2019', 'RB Heavy 2019','Zero RB 2019', 'Points For 2019', 'Points Against 2019']\n",
    "\n",
    "winEighteen = standings[2]\n",
    "winEighteen.columns = ['2018 Standings', 'Team', '2018 Record', '2018 Win %','Early TE 2018','Early QB 2018', 'RB Heavy 2018','Zero RB 2018', 'Points For 2018', 'Points Against 2018']\n",
    "\n",
    "winSeventeen = standings[3]\n",
    "winSeventeen.columns = ['2017 Standings', 'Team', '2017 Record', '2017 Win %','Early TE 2017','Early QB 2017', 'RB Heavy 2017','Zero RB 2017', 'Points For 2017', 'Points Against 2017']\n",
    "\n",
    "winSixteen = standings[4]\n",
    "winSixteen.columns = ['2016 Standings', 'Team', '2016 Record', '2016 Win %','Early TE 2016','Early QB 2016', 'RB Heavy 2016','Zero RB 2016', 'Points For 2016', 'Points Against 2016']\n",
    "\n",
    "winFifteen = standings[5]\n",
    "winFifteen.columns = ['2015 Standings', 'Team', '2015 Record', '2015 Win %','Early TE 2015','Early QB 2015', 'RB Heavy 2015','Zero RB 2015', 'Points For 2015', 'Points Against 2015']\n",
    "\n",
    "winFourteen = standings[6]\n",
    "winFourteen.columns = ['2014 Standings', 'Team', '2014 Record', '2014 Win %','Early TE 2014','Early QB 2014', 'RB Heavy 2014','Zero RB 2014', 'Points For 2014', 'Points Against 2014']\n",
    "\n",
    "winThirteen = standings[7]\n",
    "winThirteen.columns = ['2013 Standings', 'Team', '2013 Record', '2013 Win %','Early TE 2013','Early QB 2013', 'RB Heavy 2013','Zero RB 2013', 'Points For 2013', 'Points Against 2013']\n",
    "\n",
    "# merge all the tables together to create one complete dataframe\n",
    "overall = pd.merge(winTwenty, winNineteen, on='Team', how='outer')\n",
    "overall = pd.merge(overall, winEighteen, on='Team', how='outer')\n",
    "overall = pd.merge(overall, winSeventeen, on='Team', how='outer')\n",
    "overall = pd.merge(overall, winSixteen, on='Team', how='outer')\n",
    "overall = pd.merge(overall, winFifteen, on='Team', how='outer')\n",
    "overall = pd.merge(overall, winFourteen, on='Team', how='outer')\n",
    "overall = pd.merge(overall, winThirteen, on='Team', how='outer')\n",
    "\n",
    "overall"
   ]
  },
  {
   "cell_type": "markdown",
   "id": "challenging-nickname",
   "metadata": {},
   "source": [
    "## Data Visualization and Analysis\n",
    "\n",
    "### RB Heavy Strategy Vs. Zero RB Strategy\n",
    "\n",
    "#### The running back position is regarded as one of, if not the, most important position in fantasy football. Many experienced players will choose to select two running backs in their first two picks. This is because in a typical starting lineup, you need to start at least two running backs and there are only a handful of valuable running backs available. Due to this positional scarcity, many fantasy players make it a goal to secure two stud running backs with their first two picks in the draft. However, some players believe selecting running backs early is a waste of a pick due to their higher risk of injury and believe that there is plenty of running back value to be found in later rounds. So, we will look at these two different strategies and compare how they have worked in the past of the RFL. The first strategy will be an \"RB Heavy\" strategy where a player chose to select a running back with both of their first two picks. The second strategy will be the \"Zero RB\" strategy where a player chose not to select a running back with either of their first two picks. We will compare both strategies by the average win percentage, average finish in the standings, and average points for each team that chose that strategy in a particular year. \n",
    "\n",
    "#### First we will go through the dataframe and for each year we will see if the current team did either strategy and if so, we will make note of its win percentage, finish, and points for that season"
   ]
  },
  {
   "cell_type": "code",
   "execution_count": 114,
   "id": "corporate-midwest",
   "metadata": {},
   "outputs": [
    {
     "name": "stdout",
     "output_type": "stream",
     "text": [
      "[5, 2, 2, 0, 0, 0, 1, 1]\n",
      "[5, 8, 8, 8, 8, 8, 7, 5]\n"
     ]
    }
   ],
   "source": [
    "rbHeavyWinAvg = [0,0,0,0,0,0,0,0]\n",
    "rbHeavyFinish = [0,0,0,0,0,0,0,0]\n",
    "rbHeavyPoints = [0,0,0,0,0,0,0,0]\n",
    "zeroRbWinAvg = [0,0,0,0,0,0,0,0]\n",
    "zeroRbFinish = [0,0,0,0,0,0,0,0]\n",
    "zeroRbPoints = [0,0,0,0,0,0,0,0]\n",
    "\n",
    "numHeavy = [0,0,0,0,0,0,0,0]\n",
    "numZero = [0,0,0,0,0,0,0,0]\n",
    "\n",
    "for index, row in overall.iterrows():\n",
    "    # if the current team played in 2020, see if they used either strategy\n",
    "    if not(row['RB Heavy 2020'] == 'NaN'):\n",
    "        if row['RB Heavy 2020'] == 'yes':\n",
    "            numHeavy[0] = numHeavy[0] + 1\n",
    "            rbHeavyWinAvg[0] = rbHeavyWinAvg[0] + row['2020 Win %']\n",
    "            rbHeavyFinish[0] = rbHeavyFinish[0] + row['2020 Standings']\n",
    "            rbHeavyPoints[0] = rbHeavyPoints[0] + row['Points For 2020']\n",
    "        elif row['RB Heavy 2020'] == 'no':\n",
    "                numZero[0] = numZero[0] + 1\n",
    "                zeroRbWinAvg[0] = zeroRbWinAvg[0] + row['2020 Win %']\n",
    "                zeroRbFinish[0] = zeroRbFinish[0] + row['2020 Standings']\n",
    "                zeroRbPoints[0] = zeroRbPoints[0] + row['Points For 2020']\n",
    "    if not(row['RB Heavy 2019'] == 'NaN'):\n",
    "        if row['RB Heavy 2019'] == 'yes':\n",
    "            numHeavy[1] = numHeavy[1] + 1\n",
    "            rbHeavyWinAvg[1] = rbHeavyWinAvg[1] + row['2019 Win %']\n",
    "            rbHeavyFinish[1] = rbHeavyFinish[1] + row['2019 Standings']\n",
    "            rbHeavyPoints[1] = rbHeavyPoints[1] + row['Points For 2019']\n",
    "        elif row['RB Heavy 2019'] == 'no':\n",
    "                numZero[1] = numZero[1] + 1\n",
    "                zeroRbWinAvg[1] = zeroRbWinAvg[1] + row['2019 Win %']\n",
    "                zeroRbFinish[1] = zeroRbFinish[1] + row['2019 Standings']\n",
    "                zeroRbPoints[1] = zeroRbPoints[1] + row['Points For 2019']\n",
    "    if not(row['RB Heavy 2018'] == 'NaN'):\n",
    "        if row['RB Heavy 2018'] == 'yes':\n",
    "            numHeavy[2] = numHeavy[2] + 1\n",
    "            rbHeavyWinAvg[2] = rbHeavyWinAvg[2] + row['2018 Win %']\n",
    "            rbHeavyFinish[2] = rbHeavyFinish[2] + row['2018 Standings']\n",
    "            rbHeavyPoints[2] = rbHeavyPoints[2] + row['Points For 2018']\n",
    "        elif row['RB Heavy 2018'] == 'no':\n",
    "                numZero[2] = numZero[2] + 1\n",
    "                zeroRbWinAvg[2] = zeroRbWinAvg[2] + row['2018 Win %']\n",
    "                zeroRbFinish[2] = zeroRbFinish[2] + row['2018 Standings']\n",
    "                zeroRbPoints[2] = zeroRbPoints[2] + row['Points For 2018']\n",
    "    if not(row['RB Heavy 2017'] == 'NaN'):\n",
    "        if row['RB Heavy 2017'] == 'yes':\n",
    "            numHeavy[3] = numHeavy[3] + 1\n",
    "            rbHeavyWinAvg[3] = rbHeavyWinAvg[3] + row['2017 Win %']\n",
    "            rbHeavyFinish[3] = rbHeavyFinish[3] + row['2018 Standings']\n",
    "            rbHeavyPoints[3] = rbHeavyPoints[3] + row['Points For 2017']\n",
    "        elif row['RB Heavy 2017'] == 'no':\n",
    "                numZero[3] = numZero[3] + 1\n",
    "                zeroRbWinAvg[3] = zeroRbWinAvg[3] + row['2017 Win %']\n",
    "                zeroRbFinish[3] = zeroRbFinish[3] + row['2017 Standings']\n",
    "                zeroRbPoints[3] = zeroRbPoints[3] + row['Points For 2017']\n",
    "    if not(row['RB Heavy 2016'] == 'NaN'):\n",
    "        if row['RB Heavy 2016'] == 'yes':\n",
    "            numHeavy[4] = numHeavy[4] + 1\n",
    "            rbHeavyWinAvg[4] = rbHeavyWinAvg[4] + row['2016 Win %']\n",
    "            rbHeavyFinish[4] = rbHeavyFinish[4] + row['2016 Standings']\n",
    "            rbHeavyPoints[4] = rbHeavyPoints[4] + row['Points For 2016']\n",
    "        elif row['RB Heavy 2016'] == 'no':\n",
    "                numZero[4] = numZero[4] + 1\n",
    "                zeroRbWinAvg[4] = zeroRbWinAvg[4] + row['2016 Win %']\n",
    "                zeroRbFinish[4] = zeroRbFinish[4] + row['2016 Standings']\n",
    "                zeroRbPoints[4] = zeroRbPoints[4] + row['Points For 2016']\n",
    "    if not(row['RB Heavy 2015'] == 'NaN'):\n",
    "        if row['RB Heavy 2015'] == 'yes':\n",
    "            numHeavy[5] = numHeavy[5] + 1\n",
    "            rbHeavyWinAvg[5] = rbHeavyWinAvg[5] + row['2015 Win %']\n",
    "            rbHeavyFinish[5] = rbHeavyFinish[5] + row['2015 Standings']\n",
    "            rbHeavyPoints[5] = rbHeavyPoints[5] + row['Points For 2015']\n",
    "        elif row['RB Heavy 2015'] == 'no':\n",
    "                numZero[5] = numZero[5] + 1\n",
    "                zeroRbWinAvg[5] = zeroRbWinAvg[5] + row['2015 Win %']\n",
    "                zeroRbFinish[5] = zeroRbFinish[5] + row['2015 Standings']\n",
    "                zeroRbPoints[5] = zeroRbPoints[5] + row['Points For 2015']\n",
    "    if not(row['RB Heavy 2014'] == 'NaN'):\n",
    "        if row['RB Heavy 2014'] == 'yes':\n",
    "            numHeavy[6] = numHeavy[6] + 1\n",
    "            rbHeavyWinAvg[6] = rbHeavyWinAvg[6] + row['2014 Win %']\n",
    "            rbHeavyFinish[6] = rbHeavyFinish[6] + row['2014 Standings']\n",
    "            rbHeavyPoints[6] = rbHeavyPoints[6] + row['Points For 2014']\n",
    "        elif row['RB Heavy 2014'] == 'no':\n",
    "                numZero[6] = numZero[6] + 1\n",
    "                zeroRbWinAvg[6] = zeroRbWinAvg[6] + row['2014 Win %']\n",
    "                zeroRbFinish[6] = zeroRbFinish[6] + row['2014 Standings']\n",
    "                zeroRbPoints[6] = zeroRbPoints[6] + row['Points For 2014']\n",
    "    if not(row['RB Heavy 2013'] == 'NaN'):\n",
    "        if row['RB Heavy 2013'] == 'yes':\n",
    "            numHeavy[7] = numHeavy[7] + 1\n",
    "            rbHeavyWinAvg[7] = rbHeavyWinAvg[7] + row['2013 Win %']\n",
    "            rbHeavyFinish[7] = rbHeavyFinish[7] + row['2013 Standings']\n",
    "            rbHeavyPoints[7] = rbHeavyPoints[7] + row['Points For 2013']\n",
    "        elif row['RB Heavy 2013'] == 'no':\n",
    "                numZero[7] = numZero[7] + 1\n",
    "                zeroRbWinAvg[7] = zeroRbWinAvg[7] + row['2013 Win %']\n",
    "                zeroRbFinish[7] = zeroRbFinish[7] + row['2013 Standings']\n",
    "                zeroRbPoints[7] = zeroRbPoints[7] + row['Points For 2013']\n",
    "\n",
    "# in previous years (2015-2017), the heavy running back strategy was not used, thus we will forego those\n",
    "# years in our analysis\n",
    "print(numHeavy)\n",
    "print(numZero)"
   ]
  },
  {
   "cell_type": "markdown",
   "id": "sticky-problem",
   "metadata": {},
   "source": [
    "#### The first plot we will look at will be to see a comparison of RB heavy and Zero RB strategies for each year since 2013. As we can see, in the years where the RB Heavy strategy was used (not 2015-2017) three out of the five years showed a significant advantage in winning percentage for teams that employed the RB Heavy strategy. "
   ]
  },
  {
   "cell_type": "code",
   "execution_count": 116,
   "id": "graduate-cabin",
   "metadata": {},
   "outputs": [
    {
     "data": {
      "text/plain": [
       "<AxesSubplot:title={'center':'Average Win Percentages Each Year'}, xlabel='Years', ylabel='Percentage'>"
      ]
     },
     "execution_count": 116,
     "metadata": {},
     "output_type": "execute_result"
    },
    {
     "data": {
      "image/png": "[encoded data removed]",
      "text/plain": [
       "<Figure size 432x288 with 1 Axes>"
      ]
     },
     "metadata": {
      "needs_background": "light"
     },
     "output_type": "display_data"
    }
   ],
   "source": [
    "rbHeavyWinAvgFinal = [rbHeavyWinAvg[0]/numHeavy[0],rbHeavyWinAvg[1]/numHeavy[1],rbHeavyWinAvg[2]/numHeavy[2],\n",
    "                rbHeavyWinAvg[6]/numHeavy[6],rbHeavyWinAvg[7]/numHeavy[7]]\n",
    "zeroRbWinAvgFinal = [zeroRbWinAvg[0]/numZero[0],zeroRbWinAvg[1]/numZero[1],zeroRbWinAvg[2]/numZero[2],\n",
    "                zeroRbWinAvg[6]/numZero[6],zeroRbWinAvg[7]/numZero[7]]\n",
    "\n",
    "index = ['2020','2019','2018','2014','2013']\n",
    "df = pd.DataFrame({'RB Heavy': rbHeavyWinAvgFinal,\n",
    "                   'Zero RB': zeroRbWinAvgFinal}, index=index)\n",
    "ax = df.plot.bar(rot=0, title='Average Win Percentages Each Year')\n",
    "ax.set_xlabel('Years')\n",
    "ax.set_ylabel(\"Percentage\")\n",
    "ax"
   ]
  },
  {
   "cell_type": "markdown",
   "id": "governmental-split",
   "metadata": {},
   "source": [
    "#### The next plot will illustrate the average final place in the standings of the teams that employed each strategy. As we saw with the last plot, three out of the five years that the RB heavy strategy was used, those players that went RB Heavy placed significantly higher than players that went Zero RB."
   ]
  },
  {
   "cell_type": "code",
   "execution_count": 117,
   "id": "signed-psychiatry",
   "metadata": {},
   "outputs": [
    {
     "data": {
      "text/plain": [
       "<AxesSubplot:title={'center':'Average Finish Each Year'}, xlabel='Years', ylabel='Finish'>"
      ]
     },
     "execution_count": 117,
     "metadata": {},
     "output_type": "execute_result"
    },
    {
     "data": {
      "image/png": "[encoded data removed]",
      "text/plain": [
       "<Figure size 432x288 with 1 Axes>"
      ]
     },
     "metadata": {
      "needs_background": "light"
     },
     "output_type": "display_data"
    }
   ],
   "source": [
    "\n",
    "rbHeavyFinishFinal =[rbHeavyFinish[0]/numHeavy[0],rbHeavyFinish[1]/numHeavy[1],rbHeavyFinish[2]/numHeavy[2],\n",
    "                rbHeavyFinish[6]/numHeavy[6],rbHeavyFinish[7]/numHeavy[7]]\n",
    "zeroRbFinishFinal = [zeroRbFinish[0]/numZero[0],zeroRbFinish[1]/numZero[1],zeroRbFinish[2]/numZero[2],\n",
    "                zeroRbFinish[6]/numZero[6],zeroRbFinish[7]/numZero[7]]\n",
    "\n",
    "index = ['2020','2019','2018','2014','2013']\n",
    "df = pd.DataFrame({'RB Heavy': rbHeavyFinishFinal,\n",
    "                   'Zero RB': zeroRbFinishFinal}, index=index)\n",
    "ax = df.plot.bar(rot=0, title='Average Finish Each Year')\n",
    "ax.set_xlabel('Years')\n",
    "ax.set_ylabel(\"Finish\")\n",
    "ax"
   ]
  },
  {
   "cell_type": "markdown",
   "id": "useful-anaheim",
   "metadata": {},
   "source": [
    "#### The next plot will illustrate the average points scored by the teams that employed each strategy. On average, 4 out of the 5 years players who went RB Heavy scored more points compared to players that went Zero RB."
   ]
  },
  {
   "cell_type": "code",
   "execution_count": 118,
   "id": "static-substance",
   "metadata": {},
   "outputs": [
    {
     "data": {
      "text/plain": [
       "<AxesSubplot:title={'center':'Average Points For Each Year'}, xlabel='Years', ylabel='Points'>"
      ]
     },
     "execution_count": 118,
     "metadata": {},
     "output_type": "execute_result"
    },
    {
     "data": {
      "image/png": "[encoded data removed]",
      "text/plain": [
       "<Figure size 432x288 with 1 Axes>"
      ]
     },
     "metadata": {
      "needs_background": "light"
     },
     "output_type": "display_data"
    }
   ],
   "source": [
    "rbHeavyPointsFinal = [rbHeavyPoints[0]/numHeavy[0],rbHeavyPoints[1]/numHeavy[1],rbHeavyPoints[2]/numHeavy[2],\n",
    "                rbHeavyPoints[6]/numHeavy[6],rbHeavyPoints[7]/numHeavy[7]]\n",
    "zeroRbPointsFinal = [zeroRbPoints[0]/numZero[0],zeroRbPoints[1]/numZero[1],zeroRbPoints[2]/numZero[2],\n",
    "                zeroRbPoints[6]/numZero[6],zeroRbPoints[7]/numZero[7]]\n",
    "\n",
    "index = ['2020','2019','2018','2014','2013']\n",
    "df = pd.DataFrame({'RB Heavy': rbHeavyPointsFinal,\n",
    "                   'Zero RB': zeroRbPointsFinal}, index=index)\n",
    "ax = df.plot.bar(rot=0, title='Average Points For Each Year')\n",
    "ax.set_xlabel('Years')\n",
    "ax.set_ylabel(\"Points\")\n",
    "ax"
   ]
  },
  {
   "cell_type": "markdown",
   "id": "baking-amendment",
   "metadata": {},
   "source": [
    "#### Since we looked at the three measures of success on a year-by-year basis, we will now look at it in its totality. First, we will average the win percentage of every team across history that has used either strategy and compare them using a bar plot. In our plot, we can see that teams that have gone RB Heavy in their drafts have had on average a nearly ten percent higher win percentage than teams that go Zero RB. "
   ]
  },
  {
   "cell_type": "code",
   "execution_count": 119,
   "id": "dramatic-saudi",
   "metadata": {},
   "outputs": [
    {
     "data": {
      "text/plain": [
       "<AxesSubplot:title={'center':'Average Win Percentage Compared to RB Strategy'}, xlabel='Strategy', ylabel='Win Percentage'>"
      ]
     },
     "execution_count": 119,
     "metadata": {},
     "output_type": "execute_result"
    },
    {
     "data": {
      "image/png": "[encoded data removed]",
      "text/plain": [
       "<Figure size 432x288 with 1 Axes>"
      ]
     },
     "metadata": {
      "needs_background": "light"
     },
     "output_type": "display_data"
    }
   ],
   "source": [
    "rbHeavyWinAvgSum = sum(rbHeavyWinAvg)/sum(numHeavy)\n",
    "zeroRbWinAvgSum = sum(zeroRbWinAvg)/sum(numZero)\n",
    "\n",
    "index = ['RB Heavy','Zero RB']\n",
    "df = pd.DataFrame({'Strategy':['RB Heavy', 'Zero RB'], 'Win Percentage':[rbHeavyWinAvgSum,zeroRbWinAvgSum ]})\n",
    "ax = df.plot.bar(x='Strategy', y='Win Percentage', rot=0, title='Average Win Percentage Compared to RB Strategy')\n",
    "ax.set_xlabel('Strategy')\n",
    "ax.set_ylabel(\"Win Percentage\")\n",
    "ax"
   ]
  },
  {
   "cell_type": "markdown",
   "id": "foreign-syndication",
   "metadata": {},
   "source": [
    "#### Next, we looked at the average finishes for players that chose either strategy over the course of league history. On average, teams that have gone RB Heavy have placed slightly higher in the league standings compared to teams that ignored the running back position in the first two picks of the draft. "
   ]
  },
  {
   "cell_type": "code",
   "execution_count": 121,
   "id": "quantitative-module",
   "metadata": {},
   "outputs": [
    {
     "data": {
      "text/plain": [
       "<AxesSubplot:title={'center':'Average Finish Compared to RB Strategy'}, xlabel='Strategy', ylabel='Wins'>"
      ]
     },
     "execution_count": 121,
     "metadata": {},
     "output_type": "execute_result"
    },
    {
     "data": {
      "image/png": "[encoded data removed]",
      "text/plain": [
       "<Figure size 432x288 with 1 Axes>"
      ]
     },
     "metadata": {
      "needs_background": "light"
     },
     "output_type": "display_data"
    }
   ],
   "source": [
    "rbHeavyFinishSum = sum(rbHeavyFinish)/sum(numHeavy)\n",
    "zeroRbFinishSum = sum(zeroRbFinish)/sum(numZero)\n",
    "\n",
    "index = ['RB Heavy','Zero RB']\n",
    "df = pd.DataFrame({'Strategy':['RB Heavy', 'Zero RB'], 'Wins':[rbHeavyFinishSum,zeroRbFinishSum ]})\n",
    "ax = df.plot.bar(x='Strategy', y='Wins', rot=0, title='Average Finish Compared to RB Strategy')\n",
    "ax.set_xlabel('Strategy')\n",
    "ax.set_ylabel(\"Wins\")\n",
    "ax"
   ]
  },
  {
   "cell_type": "markdown",
   "id": "frank-application",
   "metadata": {},
   "source": [
    "#### The final plot we looked at was the average points scored by teams that used either strategy throughout league history. On average, teams that have gone double running back with their first two picks in the draft have significantly outscored teams that completely disregard the running back position by nearly 200 points!"
   ]
  },
  {
   "cell_type": "code",
   "execution_count": 122,
   "id": "crude-pound",
   "metadata": {},
   "outputs": [
    {
     "data": {
      "text/plain": [
       "<AxesSubplot:title={'center':'Average Points For Compared to RB Strategy'}, xlabel='Strategy', ylabel='Points'>"
      ]
     },
     "execution_count": 122,
     "metadata": {},
     "output_type": "execute_result"
    },
    {
     "data": {
      "image/png": "[encoded data removed]",
      "text/plain": [
       "<Figure size 432x288 with 1 Axes>"
      ]
     },
     "metadata": {
      "needs_background": "light"
     },
     "output_type": "display_data"
    }
   ],
   "source": [
    "rbHeavyPointsSum = sum(rbHeavyPoints)/sum(numHeavy)\n",
    "zeroRbPointsSum = sum(zeroRbPoints)/sum(numZero)\n",
    "\n",
    "index = ['RB Heavy','Zero RB']\n",
    "df = pd.DataFrame({'Strategy':['RB Heavy', 'Zero RB'], 'Points For':[rbHeavyPointsSum,zeroRbPointsSum ]})\n",
    "ax = df.plot.bar(x='Strategy', y='Points For', rot=0, title='Average Points For Compared to RB Strategy')\n",
    "ax.set_xlabel('Strategy')\n",
    "ax.set_ylabel(\"Points\")\n",
    "ax"
   ]
  },
  {
   "cell_type": "markdown",
   "id": "czech-mercury",
   "metadata": {},
   "source": [
    "### Conclusion\n",
    "\n",
    "#### Teams that have elected to go \"RB Heavy\" and select two running backs with their first two picks in the draft have outperformed teams that refused to select a running back with either of their first two picks. We have seen that RB Heavy teams have on average won more games, finished higher in the standings, and have scored more points than teams who go \"Zero RB.\" Now with this information, a fantasy player can go into their drafts knowing that if they select two running backs with their first two picks instead of fading the running back position entirely they have a statistically higher chance of achieving fantasy success and bringing home the championship along with some cash!"
   ]
  },
  {
   "cell_type": "markdown",
   "id": "indian-kelly",
   "metadata": {},
   "source": [
    "### Is Selecting a Quaterback Early a Viable Strategy?\n",
    "\n",
    "#### The Quarterback position is a unique one because, in most formats, rosters can only start one. Quarterbacks are known to produce the most points compared to every other position in the game. So, would it not make sense to select the highest producing player first? Well, some fantasy players choose to wait on quarterbacks due to the availability of decent players at the position and the need for only one on the roster. But obviously the longer you wait, the riskier a player at this important position becomes. That being said, let's look at how taking a QB early, meaning selecting one with one of your first five draft picks, affected fantasy player's season by looking at every team's average winning percentage, finishing position, and points scored across league history. "
   ]
  },
  {
   "cell_type": "code",
   "execution_count": 90,
   "id": "horizontal-combining",
   "metadata": {},
   "outputs": [
    {
     "name": "stdout",
     "output_type": "stream",
     "text": [
      "[3, 1, 5, 8, 8, 8, 8, 6]\n",
      "[7, 9, 5, 0, 0, 0, 0, 0]\n"
     ]
    }
   ],
   "source": [
    "# for each year, getting win percentage, finish position, and points scored totals for early and late drafted qb's \n",
    "earlyQbWinAvg = [0,0,0,0,0,0,0,0]\n",
    "earlyQbFinish = [0,0,0,0,0,0,0,0]\n",
    "earlyQbPoints = [0,0,0,0,0,0,0,0]\n",
    "\n",
    "lateQbWinAvg = [0,0,0,0,0,0,0,0]\n",
    "lateQbFinish = [0,0,0,0,0,0,0,0]\n",
    "lateQbPoints = [0,0,0,0,0,0,0,0]\n",
    "\n",
    "# number of players who utilized strategy each year\n",
    "numEarly = [0,0,0,0,0,0,0,0]\n",
    "numLate = [0,0,0,0,0,0,0,0]\n",
    "\n",
    "for index, row in overall.iterrows():\n",
    "    # if the current team played in 2020, see if they used either strategy\n",
    "    if not(row['Early QB 2020'] == 'NaN'):\n",
    "        if row['Early QB 2020'] == 'yes':\n",
    "            numEarly[0] = numEarly[0] + 1\n",
    "            earlyQbWinAvg[0] = earlyQbWinAvg[0] + row['2020 Win %']\n",
    "            earlyQbFinish[0] = earlyQbFinish[0] + row['2020 Standings']\n",
    "            earlyQbPoints[0] = earlyQbPoints[0] + row['Points For 2020']\n",
    "        elif row['Early QB 2020'] == 'no':\n",
    "                numLate[0] = numLate[0] + 1\n",
    "                lateQbWinAvg[0] = lateQbWinAvg[0] + row['2020 Win %']\n",
    "                lateQbFinish[0] = lateQbFinish[0] + row['2020 Standings']\n",
    "                lateQbPoints[0] = lateQbPoints[0] + row['Points For 2020']              \n",
    "    if not(row['Early QB 2019'] == 'NaN'):\n",
    "        if row['Early QB 2019'] == 'yes':\n",
    "            numEarly[1] = numEarly[1] + 1\n",
    "            earlyQbWinAvg[1] = earlyQbWinAvg[1] + row['2019 Win %']\n",
    "            earlyQbFinish[1] = earlyQbFinish[1] + row['2019 Standings']\n",
    "            earlyQbPoints[1] = earlyQbPoints[1] + row['Points For 2019']\n",
    "        elif row['Early QB 2019'] == 'no':\n",
    "                numLate[1] = numLate[1] + 1\n",
    "                lateQbWinAvg[1] = lateQbWinAvg[1] + row['2019 Win %']\n",
    "                lateQbFinish[1] = lateQbFinish[1] + row['2019 Standings']\n",
    "                lateQbPoints[1] = lateQbPoints[1] + row['Points For 2019']                \n",
    "    if not(row['Early QB 2018'] == 'NaN'):\n",
    "        if row['Early QB 2018'] == 'yes':\n",
    "            numEarly[2] = numEarly[2] + 1\n",
    "            earlyQbWinAvg[2] = earlyQbWinAvg[2] + row['2018 Win %']\n",
    "            earlyQbFinish[2] = earlyQbFinish[2] + row['2018 Standings']\n",
    "            earlyQbPoints[2] = earlyQbPoints[2] + row['Points For 2018']\n",
    "        elif row['Early QB 2018'] == 'no':\n",
    "                numLate[2] = numLate[2] + 1\n",
    "                lateQbWinAvg[2] = lateQbWinAvg[2] + row['2018 Win %']\n",
    "                lateQbFinish[2] = lateQbFinish[2] + row['2018 Standings']\n",
    "                lateQbPoints[2] = lateQbPoints[2] + row['Points For 2018']               \n",
    "    if not(row['Early QB 2017'] == 'NaN'):\n",
    "        if row['Early QB 2017'] == 'yes':\n",
    "            numEarly[3] = numEarly[3] + 1\n",
    "            earlyQbWinAvg[3] = earlyQbWinAvg[3] + row['2017 Win %']\n",
    "            earlyQbFinish[3] = earlyQbFinish[3] + row['2018 Standings']\n",
    "            earlyQbPoints[3] = earlyQbPoints[3] + row['Points For 2017']\n",
    "        elif row['Early QB 2017'] == 'no':\n",
    "                numLate[3] = numLate[3] + 1\n",
    "                lateQbWinAvg[3] = lateQbWinAvg[3] + row['2017 Win %']\n",
    "                lateQbFinish[3] = lateQbFinish[3] + row['2017 Standings']\n",
    "                lateQbPoints[3] = lateQbPoints[3] + row['Points For 2017']               \n",
    "    if not(row['Early QB 2016'] == 'NaN'):\n",
    "        if row['Early QB 2016'] == 'yes':\n",
    "            numEarly[4] = numEarly[4] + 1\n",
    "            earlyQbWinAvg[4] = earlyQbWinAvg[4] + row['2016 Win %']\n",
    "            earlyQbFinish[4] = earlyQbFinish[4] + row['2016 Standings']\n",
    "            earlyQbPoints[4] = earlyQbPoints[4] + row['Points For 2016']\n",
    "        elif row['Early QB 2016'] == 'no':\n",
    "                numLate[4] = numLate[4] + 1\n",
    "                lateQbWinAvg[4] = lateQbWinAvg[4] + row['2016 Win %']\n",
    "                lateQbFinish[4] = lateQbFinish[4] + row['2016 Standings']\n",
    "                lateQbPoints[4] = lateQbPoints[4] + row['Points For 2016']               \n",
    "    if not(row['Early QB 2015'] == 'NaN'):\n",
    "        if row['Early QB 2015'] == 'yes':\n",
    "            numEarly[5] = numEarly[5] + 1\n",
    "            earlyQbWinAvg[5] = earlyQbWinAvg[5] + row['2015 Win %']\n",
    "            earlyQbFinish[5] = earlyQbFinish[5] + row['2015 Standings']\n",
    "            earlyQbPoints[5] = earlyQbPoints[5] + row['Points For 2015']\n",
    "        elif row['Early QB 2015'] == 'no':\n",
    "                numLate[5] = numLate[5] + 1\n",
    "                lateQbWinAvg[5] = lateQbWinAvg[5] + row['2015 Win %']\n",
    "                lateQbFinish[5] = lateQbFinish[5] + row['2015 Standings']\n",
    "                lateQbPoints[5] = lateQbPoints[5] + row['Points For 2015']               \n",
    "    if not(row['Early QB 2014'] == 'NaN'):\n",
    "        if row['Early QB 2014'] == 'yes':\n",
    "            numEarly[6] = numEarly[6] + 1\n",
    "            earlyQbWinAvg[6] = earlyQbWinAvg[6] + row['2014 Win %']\n",
    "            earlyQbFinish[6] = earlyQbFinish[6] + row['2014 Standings']\n",
    "            earlyQbPoints[6] = earlyQbPoints[6] + row['Points For 2014']\n",
    "        elif row['Early QB 2014'] == 'no':\n",
    "                numLate[6] = numLate[6] + 1\n",
    "                lateQbWinAvg[6] = lateQbWinAvg[6] + row['2014 Win %']\n",
    "                lateQbFinish[6] = lateQbFinish[6] + row['2014 Standings']\n",
    "                lateQbPoints[6] = lateQbPoints[6] + row['Points For 2014']     \n",
    "    if not(row['Early QB 2013'] == 'NaN'):\n",
    "        if row['Early QB 2013'] == 'yes':\n",
    "            numEarly[7] = numEarly[7] + 1\n",
    "            earlyQbWinAvg[7] = earlyQbWinAvg[7] + row['2013 Win %']\n",
    "            earlyQbFinish[7] = earlyQbFinish[7] + row['2013 Standings']\n",
    "            earlyQbPoints[7] = earlyQbPoints[7] + row['Points For 2013']\n",
    "        elif row['Early QB 2013'] == 'no':\n",
    "                numLate[7] = numLate[7] + 1\n",
    "                lateQbWinAvg[7] = lateQbWinAvg[7] + row['2013 Win %']\n",
    "                lateQbFinish[7] = lateQbFinish[7] + row['2013 Standings']\n",
    "                lateQbPoints[7] = lateQbPoints[7] + row['Points For 2013']            \n",
    "\n",
    "# in previous years (2013-2017), the late QB strategy was not employed, thus we will forego\n",
    "# using these years in our analysis\n",
    "print(numEarly )\n",
    "print(numLate )"
   ]
  },
  {
   "cell_type": "markdown",
   "id": "endangered-bidder",
   "metadata": {},
   "source": [
    "#### First, we will take a look at the average winning percentage for the three years where both strategies were used. In two out of the three years presented, teams that took a quarterback early enjoyed a higher winning percentage. It should also be noted that these two years were the last two years in the league, indicating that there might be a trend to selecting a quarterback earlier now rather than in previous years possibly due to higher scoring quarterbacks that are making a larger difference in fantasy football. "
   ]
  },
  {
   "cell_type": "code",
   "execution_count": 91,
   "id": "ideal-lighter",
   "metadata": {},
   "outputs": [
    {
     "data": {
      "image/png": "[encoded data removed]",
      "text/plain": [
       "<Figure size 432x288 with 1 Axes>"
      ]
     },
     "metadata": {
      "needs_background": "light"
     },
     "output_type": "display_data"
    }
   ],
   "source": [
    "ys =  ['2020', '2019', '2018'] \n",
    "\n",
    "earlyQbWinAvgFinal = [earlyQbWinAvg[0]/numEarly[0], earlyQbWinAvg[1]/numEarly[1], earlyQbWinAvg[2]/numEarly[2]]\n",
    "\n",
    "lateQbWinAvgFinal = [lateQbWinAvg[0]/numLate[0], lateQbWinAvg[1]/numLate[1], lateQbWinAvg[2]/numLate[2]]\n",
    "\n",
    "df1 = pd.DataFrame({'Early QB': earlyQbWinAvgFinal, 'Late QB': lateQbWinAvgFinal}, index=ys)\n",
    "ax = df1.plot.bar(title='Average Win Percentage', rot=0)"
   ]
  },
  {
   "cell_type": "markdown",
   "id": "rotary-insert",
   "metadata": {},
   "source": [
    "#### Next, we will look at the average finish in the standings of players that used either strategy. From here, we see a similar trend to the previous plot in that in the two previous years of the league, players who snagged a quarterback in an early-round placed much higher in the leaderboard. "
   ]
  },
  {
   "cell_type": "code",
   "execution_count": 97,
   "id": "looking-auditor",
   "metadata": {},
   "outputs": [
    {
     "data": {
      "image/png": "[encoded data removed]",
      "text/plain": [
       "<Figure size 432x288 with 1 Axes>"
      ]
     },
     "metadata": {
      "needs_background": "light"
     },
     "output_type": "display_data"
    }
   ],
   "source": [
    "earlyQbFinishFinal = [earlyQbFinish[0]/numEarly[0], earlyQbFinish[1]/numEarly[1], earlyQbFinish[2]/numEarly[2]]\n",
    "\n",
    "lateQbFinishFinal = [lateQbFinish[0]/numLate[0], lateQbFinish[1]/numLate[1], lateQbFinish[2]/numLate[2]]\n",
    "\n",
    "df1 = pd.DataFrame({'Early QB': earlyQbFinishFinal, 'Late QB': lateQbFinishFinal}, index=ys)\n",
    "ax = df1.plot.bar(title='Average Finish', rot=0)"
   ]
  },
  {
   "cell_type": "markdown",
   "id": "understanding-hospital",
   "metadata": {},
   "source": [
    "#### Now we will examine average points scored by teams that used either strategy in each of the years. This plot here tells a little different story than the other two. This would seem to indicate that teams that selected a quarterback later in the draft scored more points on average in two out of the three years presented. "
   ]
  },
  {
   "cell_type": "code",
   "execution_count": 98,
   "id": "potential-seventh",
   "metadata": {},
   "outputs": [
    {
     "data": {
      "image/png": "[encoded data removed]",
      "text/plain": [
       "<Figure size 432x288 with 1 Axes>"
      ]
     },
     "metadata": {
      "needs_background": "light"
     },
     "output_type": "display_data"
    }
   ],
   "source": [
    "earlyQbPointsFinal = [earlyQbPoints[0]/numEarly[0], earlyQbPoints[1]/numEarly[1], earlyQbPoints[2]/numEarly[2]]\n",
    "\n",
    "lateQbPointsFinal = [lateQbPoints[0]/numLate[0], lateQbPoints[1]/numLate[1], lateQbPoints[2]/numLate[2]]\n",
    "\n",
    "df1 = pd.DataFrame({'Early QB': earlyQbPointsFinal, 'Late QB': lateQbPointsFinal}, index=ys)\n",
    "ax = df1.plot.bar(title='Average Points Scored', rot=0)"
   ]
  },
  {
   "cell_type": "markdown",
   "id": "educational-police",
   "metadata": {},
   "source": [
    "#### Ok, so looking year-by-year indicated that there has been a recent trend of success when drafting a quarterback in earlier rounds. But let us see how this strategy has fared on average across league history. First, let us compile the average winning percentage for players who used either strategy. Here we can see that teams that did select a quarterback in later rounds actually still have a higher winning percentage than teams that chose to select one early, despite the recent trend of success. "
   ]
  },
  {
   "cell_type": "code",
   "execution_count": 95,
   "id": "distinct-hazard",
   "metadata": {},
   "outputs": [
    {
     "data": {
      "image/png": "[encoded data removed]",
      "text/plain": [
       "<Figure size 432x288 with 1 Axes>"
      ]
     },
     "metadata": {
      "needs_background": "light"
     },
     "output_type": "display_data"
    }
   ],
   "source": [
    "earlyAvg = sum(earlyQbWinAvg) / sum(numEarly)    \n",
    "lateAvg = sum(lateQbWinAvg) / sum(numLate)\n",
    "\n",
    "df1 = pd.DataFrame({'Early QB': earlyAvg, 'Late QB': lateAvg}, index=['2013-2020'])\n",
    "ax = df1.plot.bar(title='Average Win Percentage', rot=0)"
   ]
  },
  {
   "cell_type": "markdown",
   "id": "communist-vaccine",
   "metadata": {},
   "source": [
    "#### Now let us look at the average finish for teams that used either strategy across league history. Now, this is very interesting. Teams that have gone early quarterback tend to finish higher in the standings than those who went late quarterback, despite the late quarterback strategy providing a higher winning percentage. Now, this could indicate that going quarterback later is a more boom-or-bust strategy compared to going with one early. "
   ]
  },
  {
   "cell_type": "code",
   "execution_count": 104,
   "id": "dramatic-allah",
   "metadata": {},
   "outputs": [
    {
     "data": {
      "image/png": "[encoded data removed]",
      "text/plain": [
       "<Figure size 432x288 with 1 Axes>"
      ]
     },
     "metadata": {
      "needs_background": "light"
     },
     "output_type": "display_data"
    }
   ],
   "source": [
    "earlyAvg = sum(earlyQbFinish) / sum(numEarly)  \n",
    "lateAvg = sum(lateQbFinish) / sum(numLate) \n",
    "\n",
    "df1 = pd.DataFrame({'Early QB': earlyAvg, 'Late QB': lateAvg}, index=['2013-2020'])\n",
    "ax = df1.plot.bar(title='Average Finish',rot=0)"
   ]
  },
  {
   "cell_type": "markdown",
   "id": "detected-collaboration",
   "metadata": {},
   "source": [
    "#### Lastly, we examine the points scored on average for each strategy across league history. Here we find that teams that went later on quarterback also scored significantly more points than teams that used an early pick on quarterbacks. "
   ]
  },
  {
   "cell_type": "code",
   "execution_count": 102,
   "id": "australian-basics",
   "metadata": {},
   "outputs": [
    {
     "data": {
      "image/png": "[encoded data removed]",
      "text/plain": [
       "<Figure size 432x288 with 1 Axes>"
      ]
     },
     "metadata": {
      "needs_background": "light"
     },
     "output_type": "display_data"
    }
   ],
   "source": [
    "earlyAvg = sum(earlyQbPoints) / sum(numEarly)    \n",
    "lateAvg = sum(lateQbPoints) / sum(numLate)   \n",
    "\n",
    "df1 = pd.DataFrame({'Early QB': earlyAvg, 'Late QB': lateAvg}, index=['2013-2020'])\n",
    "ax = df1.plot.bar(title='Average Points Scored',rot=0)"
   ]
  },
  {
   "cell_type": "markdown",
   "id": "marine-calcium",
   "metadata": {},
   "source": [
    "### Conclusion\n",
    "\n",
    "#### Teams that have elected to go with a quarterback in early rounds have received more success in recent years. However, we found that going later on quarterbacks also translated to success for some teams as they have a higher winning percentage on average across history than teams who went Early QB. However, Late QB teams have placed much lower in standings than teams who got one early. Thus, this has led us to believe that it is much safer to select a quarterback in one of the first five rounds, but if you want to win your league you can not necessarily choose the \"safe\" option. Thus, if you can go with a later quarterback and have that quarterback perform well, you could load up on other positions in earlier rounds which would allow your team to achieve much more success. But it should be noted that selecting a late quarterback that does well can be a very difficult thing to do. "
   ]
  },
  {
   "cell_type": "markdown",
   "id": "detected-setting",
   "metadata": {},
   "source": [
    "### Is taking a Tight End early a viable strategy?\n",
    "\n",
    "#### Tight ends are the most tricky position in fantasy football. Similar to QB, teams typically play one, but in some leagues (like the RFL) you can elect to play multiple. The great tight ends are few and far between so having a reliable tight end can be a difference-maker. However, choosing to go with a tight end early would mean foregoing selecting other important positions like a wide receiver and running back. So how important is the TE position and does taking a tight end with one of your first five picks play a role in your season's success?"
   ]
  },
  {
   "cell_type": "code",
   "execution_count": 105,
   "id": "tamil-demographic",
   "metadata": {},
   "outputs": [],
   "source": [
    "# for each year, get win percentage, finish position, and points scored totals for early and late drafted te's \n",
    "\n",
    "earlyTeWinAvg = [0,0,0,0,0,0,0,0]\n",
    "earlyTeFinish = [0,0,0,0,0,0,0,0]\n",
    "earlyTePoints = [0,0,0,0,0,0,0,0]\n",
    "\n",
    "lateTeWinAvg = [0,0,0,0,0,0,0,0]\n",
    "lateTeFinish = [0,0,0,0,0,0,0,0]\n",
    "lateTePoints = [0,0,0,0,0,0,0,0]\n",
    "\n",
    "# number of players who utilized strategy each year\n",
    "numEarly = [0,0,0,0,0,0,0,0]\n",
    "numLate = [0,0,0,0,0,0,0,0]\n",
    "\n",
    "for index, row in overall.iterrows():\n",
    "    # if the current team played in 2020, see if they used either strategy\n",
    "    if not(row['Early TE 2020'] == 'NaN'):\n",
    "        if row['Early TE 2020'] == 'yes':\n",
    "            numEarly[0] = numEarly[0] + 1\n",
    "            earlyTeWinAvg[0] = earlyTeWinAvg[0] + row['2020 Win %']\n",
    "            earlyTeFinish[0] = earlyTeFinish[0] + row['2020 Standings']\n",
    "            earlyTePoints[0] = earlyTePoints[0] + row['Points For 2020']\n",
    "        elif row['Early TE 2020'] == 'no':\n",
    "                numLate[0] = numLate[0] + 1\n",
    "                lateTeWinAvg[0] = lateTeWinAvg[0] + row['2020 Win %']\n",
    "                lateTeFinish[0] = lateTeFinish[0] + row['2020 Standings']\n",
    "                lateTePoints[0] = lateTePoints[0] + row['Points For 2020']              \n",
    "    if not(row['Early TE 2019'] == 'NaN'):\n",
    "        if row['Early TE 2019'] == 'yes':\n",
    "            numEarly[1] = numEarly[1] + 1\n",
    "            earlyTeWinAvg[1] = earlyTeWinAvg[1] + row['2019 Win %']\n",
    "            earlyTeFinish[1] = earlyTeFinish[1] + row['2019 Standings']\n",
    "            earlyTePoints[1] = earlyTePoints[1] + row['Points For 2019']\n",
    "        elif row['Early TE 2019'] == 'no':\n",
    "                numLate[1] = numLate[1] + 1\n",
    "                lateTeWinAvg[1] = lateTeWinAvg[1] + row['2019 Win %']\n",
    "                lateTeFinish[1] = lateTeFinish[1] + row['2019 Standings']\n",
    "                lateTePoints[1] = lateTePoints[1] + row['Points For 2019']                \n",
    "    if not(row['Early TE 2018'] == 'NaN'):\n",
    "        if row['Early TE 2018'] == 'yes':\n",
    "            numEarly[2] = numEarly[2] + 1\n",
    "            earlyTeWinAvg[2] = earlyTeWinAvg[2] + row['2018 Win %']\n",
    "            earlyTeFinish[2] = earlyTeFinish[2] + row['2018 Standings']\n",
    "            earlyTePoints[2] = earlyTePoints[2] + row['Points For 2018']\n",
    "        elif row['Early TE 2018'] == 'no':\n",
    "                numLate[2] = numLate[2] + 1\n",
    "                lateTeWinAvg[2] = lateTeWinAvg[2] + row['2018 Win %']\n",
    "                lateTeFinish[2] = lateTeFinish[2] + row['2018 Standings']\n",
    "                lateTePoints[2] = lateTePoints[2] + row['Points For 2018']               \n",
    "    if not(row['Early TE 2017'] == 'NaN'):\n",
    "        if row['Early TE 2017'] == 'yes':\n",
    "            numEarly[3] = numEarly[3] + 1\n",
    "            earlyTeWinAvg[3] = earlyTeWinAvg[3] + row['2017 Win %']\n",
    "            earlyTeFinish[3] = earlyTeFinish[3] + row['2018 Standings']\n",
    "            earlyTePoints[3] = earlyTePoints[3] + row['Points For 2017']\n",
    "        elif row['Early TE 2017'] == 'no':\n",
    "                numLate[3] = numLate[3] + 1\n",
    "                lateTeWinAvg[3] = lateTeWinAvg[3] + row['2017 Win %']\n",
    "                lateTeFinish[3] = lateTeFinish[3] + row['2017 Standings']\n",
    "                lateTePoints[3] = lateTePoints[3] + row['Points For 2017']               \n",
    "    if not(row['Early TE 2016'] == 'NaN'):\n",
    "        if row['Early TE 2016'] == 'yes':\n",
    "            numEarly[4] = numEarly[4] + 1\n",
    "            earlyTeWinAvg[4] = earlyTeWinAvg[4] + row['2016 Win %']\n",
    "            earlyTeFinish[4] = earlyTeFinish[4] + row['2016 Standings']\n",
    "            earlyTePoints[4] = earlyTePoints[4] + row['Points For 2016']\n",
    "        elif row['Early TE 2016'] == 'no':\n",
    "                numLate[4] = numLate[4] + 1\n",
    "                lateTeWinAvg[4] = lateTeWinAvg[4] + row['2016 Win %']\n",
    "                lateTeFinish[4] = lateTeFinish[4] + row['2016 Standings']\n",
    "                lateTePoints[4] = lateTePoints[4] + row['Points For 2016']               \n",
    "    if not(row['Early TE 2015'] == 'NaN'):\n",
    "        if row['Early TE 2015'] == 'yes':\n",
    "            numEarly[5] = numEarly[5] + 1\n",
    "            earlyTeWinAvg[5] = earlyTeWinAvg[5] + row['2015 Win %']\n",
    "            earlyTeFinish[5] = earlyTeFinish[5] + row['2015 Standings']\n",
    "            earlyTePoints[5] = earlyTePoints[5] + row['Points For 2015']\n",
    "        elif row['Early TE 2015'] == 'no':\n",
    "                numLate[5] = numLate[5] + 1\n",
    "                lateTeWinAvg[5] = lateTeWinAvg[5] + row['2015 Win %']\n",
    "                lateTeFinish[5] = lateTeFinish[5] + row['2015 Standings']\n",
    "                lateTePoints[5] = lateTePoints[5] + row['Points For 2015']               \n",
    "    if not(row['Early TE 2014'] == 'NaN'):\n",
    "        if row['Early TE 2014'] == 'yes':\n",
    "            numEarly[6] = numEarly[6] + 1\n",
    "            earlyTeWinAvg[6] = earlyTeWinAvg[6] + row['2014 Win %']\n",
    "            earlyTeFinish[6] = earlyTeFinish[6] + row['2014 Standings']\n",
    "            earlyTePoints[6] = earlyTePoints[6] + row['Points For 2014']\n",
    "        elif row['Early TE 2014'] == 'no':\n",
    "                numLate[6] = numLate[6] + 1\n",
    "                lateTeWinAvg[6] = lateTeWinAvg[6] + row['2014 Win %']\n",
    "                lateTeFinish[6] = lateTeFinish[6] + row['2014 Standings']\n",
    "                lateTePoints[6] = lateTePoints[6] + row['Points For 2014']     \n",
    "    if not(row['Early TE 2013'] == 'NaN'):\n",
    "        if row['Early TE 2013'] == 'yes':\n",
    "            numEarly[7] = numEarly[7] + 1\n",
    "            earlyTeWinAvg[7] = earlyTeWinAvg[7] + row['2013 Win %']\n",
    "            earlyTeFinish[7] = earlyTeFinish[7] + row['2013 Standings']\n",
    "            earlyTePoints[7] = earlyTePoints[7] + row['Points For 2013']\n",
    "        elif row['Early TE 2013'] == 'no':\n",
    "                numLate[7] = numLate[7] + 1\n",
    "                lateTeWinAvg[7] = lateTeWinAvg[7] + row['2013 Win %']\n",
    "                lateTeFinish[7] = lateTeFinish[7] + row['2013 Standings']\n",
    "                lateTePoints[7] = lateTePoints[7] + row['Points For 2013']            \n",
    "                "
   ]
  },
  {
   "cell_type": "markdown",
   "id": "automatic-emerald",
   "metadata": {},
   "source": [
    "#### Let's first go year-by-year and examine the average winning percentage of teams that selected each strategy. This plot is very telling. In about six out of the eight years, teams that went with an early tight end had a noticeably higher winning percentage than teams who went with one later. "
   ]
  },
  {
   "cell_type": "code",
   "execution_count": 106,
   "id": "political-french",
   "metadata": {},
   "outputs": [
    {
     "data": {
      "image/png": "[encoded data removed]",
      "text/plain": [
       "<Figure size 432x288 with 1 Axes>"
      ]
     },
     "metadata": {
      "needs_background": "light"
     },
     "output_type": "display_data"
    }
   ],
   "source": [
    "years = ['2020', '2019', '2018', '2017', '2016', '2015', '2014', '2013']\n",
    "\n",
    "earlyTeWinAvgFinal = [earlyTeWinAvg[0]/numEarly[0], earlyTeWinAvg[1]/numEarly[1], earlyTeWinAvg[2]/numEarly[2],\n",
    "                      earlyTeWinAvg[3]/numEarly[3], earlyTeWinAvg[4]/numEarly[4], earlyTeWinAvg[5]/numEarly[5], \n",
    "                      earlyTeWinAvg[6]/numEarly[6], earlyTeWinAvg[6]/numEarly[7]]\n",
    "\n",
    "lateTeWinAvgFinal = [lateTeWinAvg[0]/numLate[0], lateTeWinAvg[1]/numLate[1], lateTeWinAvg[2]/numLate[2],\n",
    "                      lateTeWinAvg[3]/numLate[3], lateTeWinAvg[4]/numLate[4], lateTeWinAvg[5]/numLate[5], \n",
    "                      lateTeWinAvg[6]/numLate[6], lateTeWinAvg[6]/numLate[7]]\n",
    "\n",
    "df1 = pd.DataFrame({'Early TE': earlyTeWinAvgFinal, 'Late TE': lateTeWinAvgFinal}, index=years)\n",
    "ax = df1.plot.bar(title='Average Win Percentage', rot=0)\n"
   ]
  },
  {
   "cell_type": "markdown",
   "id": "religious-nomination",
   "metadata": {},
   "source": [
    "#### Next, we will look at the average finish in the standings of teams that used either strategy for each year. This time we see that if you selected a TE early in a staggering seven out of the eight years, you finished on average higher than teams that did not get one early. "
   ]
  },
  {
   "cell_type": "code",
   "execution_count": 107,
   "id": "unable-montreal",
   "metadata": {},
   "outputs": [
    {
     "data": {
      "image/png": "[encoded data removed]",
      "text/plain": [
       "<Figure size 432x288 with 1 Axes>"
      ]
     },
     "metadata": {
      "needs_background": "light"
     },
     "output_type": "display_data"
    }
   ],
   "source": [
    "earlyTeFinishFinal = [earlyTeFinish[0]/numEarly[0], earlyTeFinish[1]/numEarly[1], earlyTeFinish[2]/numEarly[2],\n",
    "                      earlyTeFinish[3]/numEarly[3], earlyTeFinish[4]/numEarly[4], earlyTeFinish[5]/numEarly[5], \n",
    "                      earlyTeFinish[6]/numEarly[6], earlyTeFinish[6]/numEarly[7]]\n",
    "\n",
    "lateTeFinishFinal = [lateTeFinish[0]/numLate[0], lateTeFinish[1]/numLate[1], lateTeFinish[2]/numLate[2],\n",
    "                      lateTeFinish[3]/numLate[3], lateTeFinish[4]/numLate[4], lateTeFinish[5]/numLate[5], \n",
    "                      lateTeFinish[6]/numLate[6], lateTeFinish[6]/numLate[7]]\n",
    "\n",
    "df1 = pd.DataFrame({'Early TE': earlyTeFinishFinal, 'Late TE': lateTeFinishFinal}, index=years)\n",
    "ax = df1.plot.bar(title='Average Finish', rot=0)"
   ]
  },
  {
   "cell_type": "markdown",
   "id": "hydraulic-modification",
   "metadata": {},
   "source": [
    "#### Next, we will look at the average points scored of teams that used either strategy for each year. Again we see that if you selected a TE early in seven out of the eight years, you scored on average more points than teams that did not get a tight end early. "
   ]
  },
  {
   "cell_type": "code",
   "execution_count": 108,
   "id": "fourth-winner",
   "metadata": {},
   "outputs": [
    {
     "data": {
      "image/png": "[encoded data removed]",
      "text/plain": [
       "<Figure size 432x288 with 1 Axes>"
      ]
     },
     "metadata": {
      "needs_background": "light"
     },
     "output_type": "display_data"
    }
   ],
   "source": [
    "earlyTePointsFinal = [earlyTePoints[0]/numEarly[0], earlyTePoints[1]/numEarly[1], earlyTePoints[2]/numEarly[2],\n",
    "                      earlyTePoints[3]/numEarly[3], earlyTePoints[4]/numEarly[4], earlyTePoints[5]/numEarly[5], \n",
    "                      earlyTePoints[6]/numEarly[6], earlyTePoints[6]/numEarly[7]]\n",
    "\n",
    "lateTePointsFinal = [lateTePoints[0]/numLate[0], lateTePoints[1]/numLate[1], lateTePoints[2]/numLate[2],\n",
    "                      lateTePoints[3]/numLate[3], lateTePoints[4]/numLate[4], lateTePoints[5]/numLate[5], \n",
    "                      lateTePoints[6]/numLate[6], lateTePoints[6]/numLate[7]]\n",
    "\n",
    "df1 = pd.DataFrame({'Early TE': earlyTePointsFinal, 'Late TE': lateTePointsFinal}, index=years)\n",
    "ax = df1.plot.bar(title='Average Points Scored', rot=0)"
   ]
  },
  {
   "cell_type": "markdown",
   "id": "attempted-sailing",
   "metadata": {},
   "source": [
    "#### Maybe the year-by-year analysis might have some bias to it so let us look at each of these measures of success as a whole. Starting with the average winning percentage for each team that used either strategy. Again we see that teams that selected a tight end early averaged around 10% more wins per season. "
   ]
  },
  {
   "cell_type": "code",
   "execution_count": 110,
   "id": "attempted-david",
   "metadata": {},
   "outputs": [
    {
     "data": {
      "image/png": "[encoded data removed]",
      "text/plain": [
       "<Figure size 432x288 with 1 Axes>"
      ]
     },
     "metadata": {
      "needs_background": "light"
     },
     "output_type": "display_data"
    }
   ],
   "source": [
    "earlyAvg = sum(earlyTeWinAvg) / sum(numEarly)   \n",
    "lateAvg = sum(lateTeWinAvg) / sum(numLate) \n",
    "\n",
    "df1 = pd.DataFrame({'Early TE': earlyAvg, 'Late TE': lateAvg}, index=['2013-2020'])\n",
    "ax = df1.plot.bar(title='Average Win %', rot=0)"
   ]
  },
  {
   "cell_type": "markdown",
   "id": "drawn-excerpt",
   "metadata": {},
   "source": [
    "#### Next, we look at the average finish for each team that used either strategy. Again we see that teams that selected a tight end early averaged around 1 entire place higher in the standings. "
   ]
  },
  {
   "cell_type": "code",
   "execution_count": 111,
   "id": "acquired-coordinator",
   "metadata": {},
   "outputs": [
    {
     "data": {
      "image/png": "[encoded data removed]",
      "text/plain": [
       "<Figure size 432x288 with 1 Axes>"
      ]
     },
     "metadata": {
      "needs_background": "light"
     },
     "output_type": "display_data"
    }
   ],
   "source": [
    "earlyAvg = sum(earlyTeFinish) / sum(numEarly)    \n",
    "lateAvg = sum(lateTeFinish) / sum(numLate)   \n",
    "\n",
    "df1 = pd.DataFrame({'Early TE': earlyAvg, 'Late TE': lateAvg}, index=['2013-2020'])\n",
    "ax = df1.plot.bar(title='Average Finish', rot=0)"
   ]
  },
  {
   "cell_type": "markdown",
   "id": "offshore-theorem",
   "metadata": {},
   "source": [
    "#### Finally, we look at the average points scored for each team that used either strategy. Again we see that teams that selected a tight end early averaged around 200 more points per season.  "
   ]
  },
  {
   "cell_type": "code",
   "execution_count": 112,
   "id": "figured-isaac",
   "metadata": {},
   "outputs": [
    {
     "data": {
      "image/png": "[encoded data removed]",
      "text/plain": [
       "<Figure size 432x288 with 1 Axes>"
      ]
     },
     "metadata": {
      "needs_background": "light"
     },
     "output_type": "display_data"
    }
   ],
   "source": [
    "earlyAvg = sum(earlyTePoints) / sum(numEarly)    \n",
    "lateAvg = sum(lateTePoints) / sum(numLate) \n",
    "\n",
    "df1 = pd.DataFrame({'Early TE': earlyAvg, 'Late TE': lateAvg}, index=['2013-2020'])\n",
    "ax = df1.plot.bar(title='Average Points Scored', rot=0)"
   ]
  },
  {
   "cell_type": "markdown",
   "id": "beautiful-edward",
   "metadata": {},
   "source": [
    "### Conclusion\n",
    "\n",
    "#### Here we saw decisive evidence that points to selecting a tight end earlier equating to higher success in fantasy football. Nearly every year teams that went to pick a tight end early averaged more points, more wins, and a higher final seeding than teams that faded the position. Therefore, selecting a tight end early should give you a higher chance of winning your league.  "
   ]
  },
  {
   "cell_type": "markdown",
   "id": "young-semiconductor",
   "metadata": {},
   "source": [
    "## Summary\n",
    "\n",
    "#### After looking at six different strategies that fantasy football players use every draft season, we were able to determine which ones lead you toward higher success compared to others. We first found that choosing to go with back-to-back running backs in the first two rounds of your draft will provide you with higher success in terms of on average scoring more points, getting more wins, and placing higher in the final standings compared to the newly popular \"Zero RB\" strategy that chooses to not use either of their first picks on the important running back position. Beyond running backs, we found that it is safer to select a quarterback early however teams that faded the quarterback position enjoyed a higher winning percentage yet finished lower in the standings. This indicates that selecting a quarterback later is more boom-or-bust for teams, but you need to be a little more risky if you want to beat 9 or 11 other teams in your leagues. Lastly, we discovered that selecting a tight end early correlated to success across the history of the RFL. Therefore, if you are looking to win your leagues, much like we are, it is in your favor to select two running backs with your first two picks, making sure to get a tight end with one of your first five picks, and choosing to fade the quarterback position and hoping to hit on a potentially league-winning quarterback in one of the later rounds.\n",
    "\n",
    "#### If you want to learn more about different fantasy football strategies, I would recommend reading this Sporting News article outlining various strategies: https://www.sportingnews.com/us/fantasy/news/fantasy-football-draft-strategy-best-tips-advice-2021-snake-draft/x2f4rzedzdpb1iiuwti9dpcqj or this article written by the Fantasy Football Counselor: https://thefantasyfootballcounselor.com/fantasy-football-draft-strategy/\n",
    "\n",
    "#### If you are not a fantasy football fanatic and after reading our analysis you are desiring to know more about the game, check out this article by Sports Illustrated that outlines some of the basic concepts of fantasy football such as the scoring system and roster formats: https://www.si.com/fantasy/2020/04/04/fantasy-football-advice-guide-for-beginners\n",
    "\n",
    "#### Lastly, if you want to check out the league in which we both play in and where we received the data check out our new website here: https://jharley19.github.io/RFL-Webpage/standings.html"
   ]
  }
 ],
 "metadata": {
  "kernelspec": {
   "display_name": "Python 3",
   "language": "python",
   "name": "python3"
  },
  "language_info": {
   "codemirror_mode": {
    "name": "ipython",
    "version": 3
   },
   "file_extension": ".py",
   "mimetype": "text/x-python",
   "name": "python",
   "nbconvert_exporter": "python",
   "pygments_lexer": "ipython3",
   "version": "3.8.6"
  }
 },
 "nbformat": 4,
 "nbformat_minor": 5
}
